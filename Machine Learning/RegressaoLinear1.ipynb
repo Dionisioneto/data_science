{
 "cells": [
  {
   "cell_type": "code",
   "execution_count": null,
   "metadata": {},
   "outputs": [],
   "source": [
    "http://drsherrirose.org/publications"
   ]
  },
  {
   "cell_type": "markdown",
   "metadata": {},
   "source": [
    "### Autor: Ronisson Lucas Calmon da Conceição. Doutorando em Economia pela UFBA, linha de Economia Aplicada. Economista."
   ]
  },
  {
   "cell_type": "markdown",
   "metadata": {},
   "source": [
    "# Regressão Linear"
   ]
  },
  {
   "cell_type": "markdown",
   "metadata": {},
   "source": [
    "* Objetivo: modelar a relação entre uma variável dependente (target) e uma variável independente, ou um conjunto de variáveis independentes."
   ]
  },
  {
   "cell_type": "markdown",
   "metadata": {},
   "source": [
    "## Regressão linear simples\n",
    "* Uma variável target (y) e uma variável explicativa x (single feature).\n",
    "* Assume-se a hipótese que as variável x e y seja linearmente relacionadas.\n",
    "* Exemplos:\n",
    "    * Consumo e Renda\n",
    "    * Salário e anos de estudo\n",
    "    * Vendas e gastos em propaganda"
   ]
  },
  {
   "cell_type": "markdown",
   "metadata": {},
   "source": [
    "$$ Y = f(x_{i}) = \\beta_{0}+\\beta_{1}x_{i} $$"
   ]
  },
  {
   "cell_type": "markdown",
   "metadata": {},
   "source": [
    "$$ Y_{i} = \\beta_{0}+\\beta_{1}x_{i}+\\epsilon_{i} $$\n",
    "$$ \\epsilon_{i} = y_{i}-f(x_{i}) $$"
   ]
  },
  {
   "cell_type": "markdown",
   "metadata": {},
   "source": [
    "$$ E(\\epsilon_{i}) = 0$$"
   ]
  },
  {
   "cell_type": "markdown",
   "metadata": {},
   "source": [
    "Podemos simplificar o processo álgebrico definindo variáveis centradas na média."
   ]
  },
  {
   "cell_type": "markdown",
   "metadata": {},
   "source": [
    "$$ y_{i}  = Y_{i} - \\overline {Y_{i}} $$\n",
    "$$ x_{i} = X_{i}- \\overline{X} $$\n",
    "$$ \\overline{Y_{i}} = \\alpha+\\beta\\overline{X} + 0 $$"
   ]
  },
  {
   "cell_type": "markdown",
   "metadata": {},
   "source": [
    "$$ Y_{i} - \\overline{Y} = (\\alpha-\\alpha)+\\beta(X_{i}-\\overline{X})+\\epsilon_{i} $$"
   ]
  },
  {
   "cell_type": "markdown",
   "metadata": {},
   "source": [
    "$$ y_{i} = \\beta{x_{i}}+\\epsilon_{i} $$"
   ]
  },
  {
   "cell_type": "markdown",
   "metadata": {},
   "source": [
    "$$\\epsilon_{i} = y_{i}-\\beta x_{i} $$"
   ]
  },
  {
   "cell_type": "markdown",
   "metadata": {},
   "source": [
    "Assim, a soma dos quadrados dos erros é denotada como:"
   ]
  },
  {
   "cell_type": "markdown",
   "metadata": {},
   "source": [
    "$$\\sum_{i=1}^{n}(\\epsilon_{i})^{2} = \\sum_{i=1}^{n}(y_{i}-\\beta x_{i})^{2} $$"
   ]
  },
  {
   "cell_type": "markdown",
   "metadata": {},
   "source": [
    "$$\\sum_{i=1}^{n} (\\epsilon_{i})^2 =  \\sum_{i=1}^{n}(y_{i}-\\beta x_{i})^2 $$"
   ]
  },
  {
   "cell_type": "markdown",
   "metadata": {},
   "source": [
    "$$ \\sum_{i=1}^{n} (\\epsilon_{i})^2 = \\sum_{i=1}^{n} (y_{i}^2-2\\beta x_{i}y_{i} + \\beta^2x_{i}^2) $$\n",
    "$$ \\sum_{i=1}^{n} (\\epsilon_{i})^2 = \\sum_{i=1}^{n} (y_{i}^2 + \\beta^2x_{i}^2-2\\beta x_{i}y_{i}) $$\n",
    "$$ \\sum_{i=1}^{n} (\\epsilon_{i})^2 = \\sum_{i=1}^{n}y_{i}^2+\\sum_{i=1}^{n}\\beta^2x_{i}^2-2\\sum_{i=1}^{n}\\beta x_{i}y_{i}$$"
   ]
  },
  {
   "cell_type": "markdown",
   "metadata": {},
   "source": [
    "Sendo $\\beta$ uma constante dentro do somatório temos que:"
   ]
  },
  {
   "cell_type": "markdown",
   "metadata": {},
   "source": [
    "$$ \\sum_{i=1}^{n} (\\epsilon_{i})^2 = \\sum_{i=1}^{n}y_{i}^2+\\beta^2\\sum_{i=1}^{n}x_{i}^2-2\\beta\\sum_{i=1}^{n}x_{i}y_{i}$$"
   ]
  },
  {
   "cell_type": "markdown",
   "metadata": {},
   "source": [
    "O objetivo é minimizar a função acima, para tanto podemos derivar a expressão em relação $\\beta$ e igualar a zero (condição de primeira ordem): "
   ]
  },
  {
   "cell_type": "markdown",
   "metadata": {},
   "source": [
    "$$\\frac{\\partial}{\\partial\\beta}\\sum_{i=1}^{n} (\\epsilon_{i})^2 = 0 $$"
   ]
  },
  {
   "cell_type": "markdown",
   "metadata": {},
   "source": [
    "Usaremos a notação $\\hat {\\beta}$ (estimador) para $\\beta$. Assim:"
   ]
  },
  {
   "cell_type": "markdown",
   "metadata": {},
   "source": [
    "$$ 2 \\hat{\\beta} \\sum_{i=1}^{n}x_{i}^2-2\\sum_{i=1}^{n}x_{i}y_{i} = 0 $$\n",
    "$$\\hat{\\beta} \\sum_{i=1}^{n}x_{i}^2-\\sum_{i=1}^{n}x_{i}y_{i} = 0  $$"
   ]
  },
  {
   "cell_type": "markdown",
   "metadata": {},
   "source": [
    "Obtemos assim os estimadores:"
   ]
  },
  {
   "cell_type": "markdown",
   "metadata": {},
   "source": [
    "$$ \\hat{\\beta} = \\frac{\\sum_{i=1}^{n}x_{i}y_{i}}{\\sum_{i=1}^nx_{i}^2} $$\n",
    "$$ \\hat {\\alpha} = \\overline{Y} -\\hat{\\beta}\\overline{X} $$"
   ]
  },
  {
   "cell_type": "markdown",
   "metadata": {},
   "source": [
    "Podemos denotar:\n",
    "$$ \\hat{\\beta} = \\frac{S_{xy}}{S_{x}^2} $$"
   ]
  },
  {
   "cell_type": "markdown",
   "metadata": {},
   "source": [
    "Em que:"
   ]
  },
  {
   "cell_type": "markdown",
   "metadata": {},
   "source": [
    "$$ S_{xy} = \\sum_{i=1}^{n} (x_{i}-\\bar x) (y_{i}-\\bar y) = \\sum_{i=1}^{n} y_{i}x_{i}-n\\bar{x}\\bar{y}$$"
   ]
  },
  {
   "cell_type": "markdown",
   "metadata": {},
   "source": [
    "$$ S_{x}^2 = \\sum_{i=1}^{n} (x_{i}-\\bar{x})^{2} = \\sum_{i=1}^{n}x_{i}^2-n(\\bar{x})^2 $$"
   ]
  },
  {
   "cell_type": "markdown",
   "metadata": {},
   "source": [
    "### Código"
   ]
  },
  {
   "cell_type": "code",
   "execution_count": 202,
   "metadata": {},
   "outputs": [],
   "source": [
    "import matplotlib.pyplot as plt\n",
    "import pandas as pd\n",
    "import numpy as np\n",
    "import warnings\n",
    "warnings.filterwarnings(\"ignore\")"
   ]
  },
  {
   "cell_type": "code",
   "execution_count": 173,
   "metadata": {},
   "outputs": [],
   "source": [
    "dados = {'X':[103,123,145,126,189,211,178,155,141,156,166,179,197,204,125,112,107,135,144,188],\n",
    "        'Y':[160,167,207,173,256,290,237,209,193,219,235,234,273,272,181,166,161,195,201,255]}"
   ]
  },
  {
   "cell_type": "code",
   "execution_count": 174,
   "metadata": {},
   "outputs": [],
   "source": [
    "df = pd.DataFrame(dados)"
   ]
  },
  {
   "cell_type": "code",
   "execution_count": 47,
   "metadata": {},
   "outputs": [
    {
     "data": {
      "image/png": "[encoded data removed]",
      "text/plain": [
       "<Figure size 720x576 with 1 Axes>"
      ]
     },
     "metadata": {
      "needs_background": "light"
     },
     "output_type": "display_data"
    }
   ],
   "source": [
    "plt.figure(figsize=(10,8))\n",
    "plt.title('Relação entre as variáveis X e Y')\n",
    "plt.scatter(df['X'],df['Y'])\n",
    "plt.xlabel('Variável Independente X')\n",
    "plt.ylabel('Variável Dependente Y')\n",
    "plt.grid(True)\n",
    "plt.show()"
   ]
  },
  {
   "cell_type": "code",
   "execution_count": 13,
   "metadata": {},
   "outputs": [
    {
     "data": {
      "text/plain": [
       "X    3084\n",
       "Y    4284\n",
       "dtype: int64"
      ]
     },
     "execution_count": 13,
     "metadata": {},
     "output_type": "execute_result"
    }
   ],
   "source": [
    "df.sum()"
   ]
  },
  {
   "cell_type": "code",
   "execution_count": 14,
   "metadata": {},
   "outputs": [
    {
     "data": {
      "text/plain": [
       "X    154.2\n",
       "Y    214.2\n",
       "dtype: float64"
      ]
     },
     "execution_count": 14,
     "metadata": {},
     "output_type": "execute_result"
    }
   ],
   "source": [
    "df.mean()"
   ]
  },
  {
   "cell_type": "markdown",
   "metadata": {},
   "source": [
    "Denotaremos:\n",
    "$$ x = X_{i} - \\overline{X} $$\n",
    "$$ y = Y_{i} - \\overline{Y} $$\n",
    "$$ x^2 = (X_{i} - \\overline{X})^2 $$\n",
    "$$ y^2 = (Y_{i} - \\overline{Y})^2 $$\n",
    "$$ xy = (\\sum_{i=1}^{n}(X_{i}-\\overline{X})(Y_{i} - \\overline{Y}) $$"
   ]
  },
  {
   "cell_type": "code",
   "execution_count": 176,
   "metadata": {},
   "outputs": [],
   "source": [
    "df['x'] = df['X'] - df['X'].mean()\n",
    "df['y'] = df['Y'] - df['Y'].mean()\n",
    "df['x^2'] = (df['X'] - df['X'].mean())**2\n",
    "df['y^2'] = (df['Y'] - df['Y'].mean())**2\n",
    "df['xy'] = df['x']*df['y']"
   ]
  },
  {
   "cell_type": "code",
   "execution_count": 177,
   "metadata": {},
   "outputs": [
    {
     "data": {
      "text/html": [
       "<div>\n",
       "<style scoped>\n",
       "    .dataframe tbody tr th:only-of-type {\n",
       "        vertical-align: middle;\n",
       "    }\n",
       "\n",
       "    .dataframe tbody tr th {\n",
       "        vertical-align: top;\n",
       "    }\n",
       "\n",
       "    .dataframe thead th {\n",
       "        text-align: right;\n",
       "    }\n",
       "</style>\n",
       "<table border=\"1\" class=\"dataframe\">\n",
       "  <thead>\n",
       "    <tr style=\"text-align: right;\">\n",
       "      <th></th>\n",
       "      <th>X</th>\n",
       "      <th>Y</th>\n",
       "      <th>x</th>\n",
       "      <th>y</th>\n",
       "      <th>x^2</th>\n",
       "      <th>y^2</th>\n",
       "      <th>xy</th>\n",
       "    </tr>\n",
       "  </thead>\n",
       "  <tbody>\n",
       "    <tr>\n",
       "      <th>0</th>\n",
       "      <td>103</td>\n",
       "      <td>160</td>\n",
       "      <td>-51.2</td>\n",
       "      <td>-54.2</td>\n",
       "      <td>2621.44</td>\n",
       "      <td>2937.64</td>\n",
       "      <td>2775.04</td>\n",
       "    </tr>\n",
       "    <tr>\n",
       "      <th>1</th>\n",
       "      <td>123</td>\n",
       "      <td>167</td>\n",
       "      <td>-31.2</td>\n",
       "      <td>-47.2</td>\n",
       "      <td>973.44</td>\n",
       "      <td>2227.84</td>\n",
       "      <td>1472.64</td>\n",
       "    </tr>\n",
       "    <tr>\n",
       "      <th>2</th>\n",
       "      <td>145</td>\n",
       "      <td>207</td>\n",
       "      <td>-9.2</td>\n",
       "      <td>-7.2</td>\n",
       "      <td>84.64</td>\n",
       "      <td>51.84</td>\n",
       "      <td>66.24</td>\n",
       "    </tr>\n",
       "    <tr>\n",
       "      <th>3</th>\n",
       "      <td>126</td>\n",
       "      <td>173</td>\n",
       "      <td>-28.2</td>\n",
       "      <td>-41.2</td>\n",
       "      <td>795.24</td>\n",
       "      <td>1697.44</td>\n",
       "      <td>1161.84</td>\n",
       "    </tr>\n",
       "    <tr>\n",
       "      <th>4</th>\n",
       "      <td>189</td>\n",
       "      <td>256</td>\n",
       "      <td>34.8</td>\n",
       "      <td>41.8</td>\n",
       "      <td>1211.04</td>\n",
       "      <td>1747.24</td>\n",
       "      <td>1454.64</td>\n",
       "    </tr>\n",
       "    <tr>\n",
       "      <th>5</th>\n",
       "      <td>211</td>\n",
       "      <td>290</td>\n",
       "      <td>56.8</td>\n",
       "      <td>75.8</td>\n",
       "      <td>3226.24</td>\n",
       "      <td>5745.64</td>\n",
       "      <td>4305.44</td>\n",
       "    </tr>\n",
       "    <tr>\n",
       "      <th>6</th>\n",
       "      <td>178</td>\n",
       "      <td>237</td>\n",
       "      <td>23.8</td>\n",
       "      <td>22.8</td>\n",
       "      <td>566.44</td>\n",
       "      <td>519.84</td>\n",
       "      <td>542.64</td>\n",
       "    </tr>\n",
       "    <tr>\n",
       "      <th>7</th>\n",
       "      <td>155</td>\n",
       "      <td>209</td>\n",
       "      <td>0.8</td>\n",
       "      <td>-5.2</td>\n",
       "      <td>0.64</td>\n",
       "      <td>27.04</td>\n",
       "      <td>-4.16</td>\n",
       "    </tr>\n",
       "    <tr>\n",
       "      <th>8</th>\n",
       "      <td>141</td>\n",
       "      <td>193</td>\n",
       "      <td>-13.2</td>\n",
       "      <td>-21.2</td>\n",
       "      <td>174.24</td>\n",
       "      <td>449.44</td>\n",
       "      <td>279.84</td>\n",
       "    </tr>\n",
       "    <tr>\n",
       "      <th>9</th>\n",
       "      <td>156</td>\n",
       "      <td>219</td>\n",
       "      <td>1.8</td>\n",
       "      <td>4.8</td>\n",
       "      <td>3.24</td>\n",
       "      <td>23.04</td>\n",
       "      <td>8.64</td>\n",
       "    </tr>\n",
       "    <tr>\n",
       "      <th>10</th>\n",
       "      <td>166</td>\n",
       "      <td>235</td>\n",
       "      <td>11.8</td>\n",
       "      <td>20.8</td>\n",
       "      <td>139.24</td>\n",
       "      <td>432.64</td>\n",
       "      <td>245.44</td>\n",
       "    </tr>\n",
       "    <tr>\n",
       "      <th>11</th>\n",
       "      <td>179</td>\n",
       "      <td>234</td>\n",
       "      <td>24.8</td>\n",
       "      <td>19.8</td>\n",
       "      <td>615.04</td>\n",
       "      <td>392.04</td>\n",
       "      <td>491.04</td>\n",
       "    </tr>\n",
       "    <tr>\n",
       "      <th>12</th>\n",
       "      <td>197</td>\n",
       "      <td>273</td>\n",
       "      <td>42.8</td>\n",
       "      <td>58.8</td>\n",
       "      <td>1831.84</td>\n",
       "      <td>3457.44</td>\n",
       "      <td>2516.64</td>\n",
       "    </tr>\n",
       "    <tr>\n",
       "      <th>13</th>\n",
       "      <td>204</td>\n",
       "      <td>272</td>\n",
       "      <td>49.8</td>\n",
       "      <td>57.8</td>\n",
       "      <td>2480.04</td>\n",
       "      <td>3340.84</td>\n",
       "      <td>2878.44</td>\n",
       "    </tr>\n",
       "    <tr>\n",
       "      <th>14</th>\n",
       "      <td>125</td>\n",
       "      <td>181</td>\n",
       "      <td>-29.2</td>\n",
       "      <td>-33.2</td>\n",
       "      <td>852.64</td>\n",
       "      <td>1102.24</td>\n",
       "      <td>969.44</td>\n",
       "    </tr>\n",
       "    <tr>\n",
       "      <th>15</th>\n",
       "      <td>112</td>\n",
       "      <td>166</td>\n",
       "      <td>-42.2</td>\n",
       "      <td>-48.2</td>\n",
       "      <td>1780.84</td>\n",
       "      <td>2323.24</td>\n",
       "      <td>2034.04</td>\n",
       "    </tr>\n",
       "    <tr>\n",
       "      <th>16</th>\n",
       "      <td>107</td>\n",
       "      <td>161</td>\n",
       "      <td>-47.2</td>\n",
       "      <td>-53.2</td>\n",
       "      <td>2227.84</td>\n",
       "      <td>2830.24</td>\n",
       "      <td>2511.04</td>\n",
       "    </tr>\n",
       "    <tr>\n",
       "      <th>17</th>\n",
       "      <td>135</td>\n",
       "      <td>195</td>\n",
       "      <td>-19.2</td>\n",
       "      <td>-19.2</td>\n",
       "      <td>368.64</td>\n",
       "      <td>368.64</td>\n",
       "      <td>368.64</td>\n",
       "    </tr>\n",
       "    <tr>\n",
       "      <th>18</th>\n",
       "      <td>144</td>\n",
       "      <td>201</td>\n",
       "      <td>-10.2</td>\n",
       "      <td>-13.2</td>\n",
       "      <td>104.04</td>\n",
       "      <td>174.24</td>\n",
       "      <td>134.64</td>\n",
       "    </tr>\n",
       "    <tr>\n",
       "      <th>19</th>\n",
       "      <td>188</td>\n",
       "      <td>255</td>\n",
       "      <td>33.8</td>\n",
       "      <td>40.8</td>\n",
       "      <td>1142.44</td>\n",
       "      <td>1664.64</td>\n",
       "      <td>1379.04</td>\n",
       "    </tr>\n",
       "  </tbody>\n",
       "</table>\n",
       "</div>"
      ],
      "text/plain": [
       "      X    Y     x     y      x^2      y^2       xy\n",
       "0   103  160 -51.2 -54.2  2621.44  2937.64  2775.04\n",
       "1   123  167 -31.2 -47.2   973.44  2227.84  1472.64\n",
       "2   145  207  -9.2  -7.2    84.64    51.84    66.24\n",
       "3   126  173 -28.2 -41.2   795.24  1697.44  1161.84\n",
       "4   189  256  34.8  41.8  1211.04  1747.24  1454.64\n",
       "5   211  290  56.8  75.8  3226.24  5745.64  4305.44\n",
       "6   178  237  23.8  22.8   566.44   519.84   542.64\n",
       "7   155  209   0.8  -5.2     0.64    27.04    -4.16\n",
       "8   141  193 -13.2 -21.2   174.24   449.44   279.84\n",
       "9   156  219   1.8   4.8     3.24    23.04     8.64\n",
       "10  166  235  11.8  20.8   139.24   432.64   245.44\n",
       "11  179  234  24.8  19.8   615.04   392.04   491.04\n",
       "12  197  273  42.8  58.8  1831.84  3457.44  2516.64\n",
       "13  204  272  49.8  57.8  2480.04  3340.84  2878.44\n",
       "14  125  181 -29.2 -33.2   852.64  1102.24   969.44\n",
       "15  112  166 -42.2 -48.2  1780.84  2323.24  2034.04\n",
       "16  107  161 -47.2 -53.2  2227.84  2830.24  2511.04\n",
       "17  135  195 -19.2 -19.2   368.64   368.64   368.64\n",
       "18  144  201 -10.2 -13.2   104.04   174.24   134.64\n",
       "19  188  255  33.8  40.8  1142.44  1664.64  1379.04"
      ]
     },
     "execution_count": 177,
     "metadata": {},
     "output_type": "execute_result"
    }
   ],
   "source": [
    "df"
   ]
  },
  {
   "cell_type": "code",
   "execution_count": 189,
   "metadata": {},
   "outputs": [
    {
     "data": {
      "text/plain": [
       "1.207"
      ]
     },
     "execution_count": 189,
     "metadata": {},
     "output_type": "execute_result"
    }
   ],
   "source": [
    "round(df['xy'].sum()/df['x^2'].sum(),3)"
   ]
  },
  {
   "cell_type": "code",
   "execution_count": 178,
   "metadata": {},
   "outputs": [],
   "source": [
    "beta = round(df['xy'].sum() / df['x^2'].sum(), 3)"
   ]
  },
  {
   "cell_type": "code",
   "execution_count": 179,
   "metadata": {},
   "outputs": [
    {
     "data": {
      "text/plain": [
       "1.207"
      ]
     },
     "execution_count": 179,
     "metadata": {},
     "output_type": "execute_result"
    }
   ],
   "source": [
    "beta"
   ]
  },
  {
   "cell_type": "code",
   "execution_count": 60,
   "metadata": {},
   "outputs": [],
   "source": [
    "alpha = round(df['Y'].mean() - beta*df['X'].mean(), 2)"
   ]
  },
  {
   "cell_type": "code",
   "execution_count": 61,
   "metadata": {},
   "outputs": [
    {
     "data": {
      "text/plain": [
       "28.08"
      ]
     },
     "execution_count": 61,
     "metadata": {},
     "output_type": "execute_result"
    }
   ],
   "source": [
    "alpha"
   ]
  },
  {
   "cell_type": "markdown",
   "metadata": {},
   "source": [
    "$$ Y_{i} = 28,08+1,207X_{i} $$"
   ]
  },
  {
   "cell_type": "markdown",
   "metadata": {},
   "source": [
    "Recuperação de parâmetros:"
   ]
  },
  {
   "cell_type": "code",
   "execution_count": 190,
   "metadata": {},
   "outputs": [],
   "source": [
    "reta = [round(alpha+beta*x,2) for x in df['X']]"
   ]
  },
  {
   "cell_type": "code",
   "execution_count": 191,
   "metadata": {},
   "outputs": [
    {
     "data": {
      "text/plain": [
       "[152.4,\n",
       " 176.54,\n",
       " 203.1,\n",
       " 180.16,\n",
       " 256.2,\n",
       " 282.76,\n",
       " 242.93,\n",
       " 215.17,\n",
       " 198.27,\n",
       " 216.37,\n",
       " 228.44,\n",
       " 244.13,\n",
       " 265.86,\n",
       " 274.31,\n",
       " 178.96,\n",
       " 163.26,\n",
       " 157.23,\n",
       " 191.03,\n",
       " 201.89,\n",
       " 255.0]"
      ]
     },
     "execution_count": 191,
     "metadata": {},
     "output_type": "execute_result"
    }
   ],
   "source": [
    "reta"
   ]
  },
  {
   "cell_type": "code",
   "execution_count": 69,
   "metadata": {},
   "outputs": [
    {
     "data": {
      "image/png": "[encoded data removed]",
      "text/plain": [
       "<Figure size 720x576 with 1 Axes>"
      ]
     },
     "metadata": {
      "needs_background": "light"
     },
     "output_type": "display_data"
    }
   ],
   "source": [
    "plt.figure(figsize = (10,8))\n",
    "plt.scatter(df['X'], df['Y'])\n",
    "plt.plot(df['X'], reta, color='r')\n",
    "plt.title('Relação entre as variáveis X e Y', pad=20)\n",
    "plt.xlabel('Variável independente X')\n",
    "plt.ylabel('Variável dependente Y')\n",
    "plt.grid(True)\n",
    "plt.show()"
   ]
  },
  {
   "cell_type": "code",
   "execution_count": 70,
   "metadata": {},
   "outputs": [],
   "source": [
    "df['Y-Y^'] = round(df['Y'] -reta,1)"
   ]
  },
  {
   "cell_type": "code",
   "execution_count": 76,
   "metadata": {},
   "outputs": [],
   "source": [
    "df['(Y-Y^)^2'] = round((df['Y'] -reta)**2,1)"
   ]
  },
  {
   "cell_type": "code",
   "execution_count": 85,
   "metadata": {},
   "outputs": [],
   "source": [
    "df['Y^'] = reta"
   ]
  },
  {
   "cell_type": "code",
   "execution_count": 86,
   "metadata": {},
   "outputs": [
    {
     "data": {
      "text/html": [
       "<div>\n",
       "<style scoped>\n",
       "    .dataframe tbody tr th:only-of-type {\n",
       "        vertical-align: middle;\n",
       "    }\n",
       "\n",
       "    .dataframe tbody tr th {\n",
       "        vertical-align: top;\n",
       "    }\n",
       "\n",
       "    .dataframe thead th {\n",
       "        text-align: right;\n",
       "    }\n",
       "</style>\n",
       "<table border=\"1\" class=\"dataframe\">\n",
       "  <thead>\n",
       "    <tr style=\"text-align: right;\">\n",
       "      <th></th>\n",
       "      <th>X</th>\n",
       "      <th>Y</th>\n",
       "      <th>x</th>\n",
       "      <th>y</th>\n",
       "      <th>x^2</th>\n",
       "      <th>y^2</th>\n",
       "      <th>xy</th>\n",
       "      <th>Y-Y^</th>\n",
       "      <th>(Y-Y^)^2</th>\n",
       "      <th>Y^</th>\n",
       "    </tr>\n",
       "  </thead>\n",
       "  <tbody>\n",
       "    <tr>\n",
       "      <th>0</th>\n",
       "      <td>103</td>\n",
       "      <td>160</td>\n",
       "      <td>-51.2</td>\n",
       "      <td>-54.2</td>\n",
       "      <td>2621.44</td>\n",
       "      <td>2937.64</td>\n",
       "      <td>2775.04</td>\n",
       "      <td>7.6</td>\n",
       "      <td>57.8</td>\n",
       "      <td>152.40</td>\n",
       "    </tr>\n",
       "    <tr>\n",
       "      <th>1</th>\n",
       "      <td>123</td>\n",
       "      <td>167</td>\n",
       "      <td>-31.2</td>\n",
       "      <td>-47.2</td>\n",
       "      <td>973.44</td>\n",
       "      <td>2227.84</td>\n",
       "      <td>1472.64</td>\n",
       "      <td>-9.5</td>\n",
       "      <td>91.0</td>\n",
       "      <td>176.54</td>\n",
       "    </tr>\n",
       "    <tr>\n",
       "      <th>2</th>\n",
       "      <td>145</td>\n",
       "      <td>207</td>\n",
       "      <td>-9.2</td>\n",
       "      <td>-7.2</td>\n",
       "      <td>84.64</td>\n",
       "      <td>51.84</td>\n",
       "      <td>66.24</td>\n",
       "      <td>3.9</td>\n",
       "      <td>15.2</td>\n",
       "      <td>203.10</td>\n",
       "    </tr>\n",
       "    <tr>\n",
       "      <th>3</th>\n",
       "      <td>126</td>\n",
       "      <td>173</td>\n",
       "      <td>-28.2</td>\n",
       "      <td>-41.2</td>\n",
       "      <td>795.24</td>\n",
       "      <td>1697.44</td>\n",
       "      <td>1161.84</td>\n",
       "      <td>-7.2</td>\n",
       "      <td>51.3</td>\n",
       "      <td>180.16</td>\n",
       "    </tr>\n",
       "    <tr>\n",
       "      <th>4</th>\n",
       "      <td>189</td>\n",
       "      <td>256</td>\n",
       "      <td>34.8</td>\n",
       "      <td>41.8</td>\n",
       "      <td>1211.04</td>\n",
       "      <td>1747.24</td>\n",
       "      <td>1454.64</td>\n",
       "      <td>-0.2</td>\n",
       "      <td>0.0</td>\n",
       "      <td>256.20</td>\n",
       "    </tr>\n",
       "    <tr>\n",
       "      <th>5</th>\n",
       "      <td>211</td>\n",
       "      <td>290</td>\n",
       "      <td>56.8</td>\n",
       "      <td>75.8</td>\n",
       "      <td>3226.24</td>\n",
       "      <td>5745.64</td>\n",
       "      <td>4305.44</td>\n",
       "      <td>7.2</td>\n",
       "      <td>52.4</td>\n",
       "      <td>282.76</td>\n",
       "    </tr>\n",
       "    <tr>\n",
       "      <th>6</th>\n",
       "      <td>178</td>\n",
       "      <td>237</td>\n",
       "      <td>23.8</td>\n",
       "      <td>22.8</td>\n",
       "      <td>566.44</td>\n",
       "      <td>519.84</td>\n",
       "      <td>542.64</td>\n",
       "      <td>-5.9</td>\n",
       "      <td>35.2</td>\n",
       "      <td>242.93</td>\n",
       "    </tr>\n",
       "    <tr>\n",
       "      <th>7</th>\n",
       "      <td>155</td>\n",
       "      <td>209</td>\n",
       "      <td>0.8</td>\n",
       "      <td>-5.2</td>\n",
       "      <td>0.64</td>\n",
       "      <td>27.04</td>\n",
       "      <td>-4.16</td>\n",
       "      <td>-6.2</td>\n",
       "      <td>38.1</td>\n",
       "      <td>215.17</td>\n",
       "    </tr>\n",
       "    <tr>\n",
       "      <th>8</th>\n",
       "      <td>141</td>\n",
       "      <td>193</td>\n",
       "      <td>-13.2</td>\n",
       "      <td>-21.2</td>\n",
       "      <td>174.24</td>\n",
       "      <td>449.44</td>\n",
       "      <td>279.84</td>\n",
       "      <td>-5.3</td>\n",
       "      <td>27.8</td>\n",
       "      <td>198.27</td>\n",
       "    </tr>\n",
       "    <tr>\n",
       "      <th>9</th>\n",
       "      <td>156</td>\n",
       "      <td>219</td>\n",
       "      <td>1.8</td>\n",
       "      <td>4.8</td>\n",
       "      <td>3.24</td>\n",
       "      <td>23.04</td>\n",
       "      <td>8.64</td>\n",
       "      <td>2.6</td>\n",
       "      <td>6.9</td>\n",
       "      <td>216.37</td>\n",
       "    </tr>\n",
       "    <tr>\n",
       "      <th>10</th>\n",
       "      <td>166</td>\n",
       "      <td>235</td>\n",
       "      <td>11.8</td>\n",
       "      <td>20.8</td>\n",
       "      <td>139.24</td>\n",
       "      <td>432.64</td>\n",
       "      <td>245.44</td>\n",
       "      <td>6.6</td>\n",
       "      <td>43.0</td>\n",
       "      <td>228.44</td>\n",
       "    </tr>\n",
       "    <tr>\n",
       "      <th>11</th>\n",
       "      <td>179</td>\n",
       "      <td>234</td>\n",
       "      <td>24.8</td>\n",
       "      <td>19.8</td>\n",
       "      <td>615.04</td>\n",
       "      <td>392.04</td>\n",
       "      <td>491.04</td>\n",
       "      <td>-10.1</td>\n",
       "      <td>102.6</td>\n",
       "      <td>244.13</td>\n",
       "    </tr>\n",
       "    <tr>\n",
       "      <th>12</th>\n",
       "      <td>197</td>\n",
       "      <td>273</td>\n",
       "      <td>42.8</td>\n",
       "      <td>58.8</td>\n",
       "      <td>1831.84</td>\n",
       "      <td>3457.44</td>\n",
       "      <td>2516.64</td>\n",
       "      <td>7.1</td>\n",
       "      <td>51.0</td>\n",
       "      <td>265.86</td>\n",
       "    </tr>\n",
       "    <tr>\n",
       "      <th>13</th>\n",
       "      <td>204</td>\n",
       "      <td>272</td>\n",
       "      <td>49.8</td>\n",
       "      <td>57.8</td>\n",
       "      <td>2480.04</td>\n",
       "      <td>3340.84</td>\n",
       "      <td>2878.44</td>\n",
       "      <td>-2.3</td>\n",
       "      <td>5.3</td>\n",
       "      <td>274.31</td>\n",
       "    </tr>\n",
       "    <tr>\n",
       "      <th>14</th>\n",
       "      <td>125</td>\n",
       "      <td>181</td>\n",
       "      <td>-29.2</td>\n",
       "      <td>-33.2</td>\n",
       "      <td>852.64</td>\n",
       "      <td>1102.24</td>\n",
       "      <td>969.44</td>\n",
       "      <td>2.0</td>\n",
       "      <td>4.2</td>\n",
       "      <td>178.96</td>\n",
       "    </tr>\n",
       "    <tr>\n",
       "      <th>15</th>\n",
       "      <td>112</td>\n",
       "      <td>166</td>\n",
       "      <td>-42.2</td>\n",
       "      <td>-48.2</td>\n",
       "      <td>1780.84</td>\n",
       "      <td>2323.24</td>\n",
       "      <td>2034.04</td>\n",
       "      <td>2.7</td>\n",
       "      <td>7.5</td>\n",
       "      <td>163.26</td>\n",
       "    </tr>\n",
       "    <tr>\n",
       "      <th>16</th>\n",
       "      <td>107</td>\n",
       "      <td>161</td>\n",
       "      <td>-47.2</td>\n",
       "      <td>-53.2</td>\n",
       "      <td>2227.84</td>\n",
       "      <td>2830.24</td>\n",
       "      <td>2511.04</td>\n",
       "      <td>3.8</td>\n",
       "      <td>14.2</td>\n",
       "      <td>157.23</td>\n",
       "    </tr>\n",
       "    <tr>\n",
       "      <th>17</th>\n",
       "      <td>135</td>\n",
       "      <td>195</td>\n",
       "      <td>-19.2</td>\n",
       "      <td>-19.2</td>\n",
       "      <td>368.64</td>\n",
       "      <td>368.64</td>\n",
       "      <td>368.64</td>\n",
       "      <td>4.0</td>\n",
       "      <td>15.8</td>\n",
       "      <td>191.03</td>\n",
       "    </tr>\n",
       "    <tr>\n",
       "      <th>18</th>\n",
       "      <td>144</td>\n",
       "      <td>201</td>\n",
       "      <td>-10.2</td>\n",
       "      <td>-13.2</td>\n",
       "      <td>104.04</td>\n",
       "      <td>174.24</td>\n",
       "      <td>134.64</td>\n",
       "      <td>-0.9</td>\n",
       "      <td>0.8</td>\n",
       "      <td>201.89</td>\n",
       "    </tr>\n",
       "    <tr>\n",
       "      <th>19</th>\n",
       "      <td>188</td>\n",
       "      <td>255</td>\n",
       "      <td>33.8</td>\n",
       "      <td>40.8</td>\n",
       "      <td>1142.44</td>\n",
       "      <td>1664.64</td>\n",
       "      <td>1379.04</td>\n",
       "      <td>0.0</td>\n",
       "      <td>0.0</td>\n",
       "      <td>255.00</td>\n",
       "    </tr>\n",
       "  </tbody>\n",
       "</table>\n",
       "</div>"
      ],
      "text/plain": [
       "      X    Y     x     y      x^2      y^2       xy  Y-Y^  (Y-Y^)^2      Y^\n",
       "0   103  160 -51.2 -54.2  2621.44  2937.64  2775.04   7.6      57.8  152.40\n",
       "1   123  167 -31.2 -47.2   973.44  2227.84  1472.64  -9.5      91.0  176.54\n",
       "2   145  207  -9.2  -7.2    84.64    51.84    66.24   3.9      15.2  203.10\n",
       "3   126  173 -28.2 -41.2   795.24  1697.44  1161.84  -7.2      51.3  180.16\n",
       "4   189  256  34.8  41.8  1211.04  1747.24  1454.64  -0.2       0.0  256.20\n",
       "5   211  290  56.8  75.8  3226.24  5745.64  4305.44   7.2      52.4  282.76\n",
       "6   178  237  23.8  22.8   566.44   519.84   542.64  -5.9      35.2  242.93\n",
       "7   155  209   0.8  -5.2     0.64    27.04    -4.16  -6.2      38.1  215.17\n",
       "8   141  193 -13.2 -21.2   174.24   449.44   279.84  -5.3      27.8  198.27\n",
       "9   156  219   1.8   4.8     3.24    23.04     8.64   2.6       6.9  216.37\n",
       "10  166  235  11.8  20.8   139.24   432.64   245.44   6.6      43.0  228.44\n",
       "11  179  234  24.8  19.8   615.04   392.04   491.04 -10.1     102.6  244.13\n",
       "12  197  273  42.8  58.8  1831.84  3457.44  2516.64   7.1      51.0  265.86\n",
       "13  204  272  49.8  57.8  2480.04  3340.84  2878.44  -2.3       5.3  274.31\n",
       "14  125  181 -29.2 -33.2   852.64  1102.24   969.44   2.0       4.2  178.96\n",
       "15  112  166 -42.2 -48.2  1780.84  2323.24  2034.04   2.7       7.5  163.26\n",
       "16  107  161 -47.2 -53.2  2227.84  2830.24  2511.04   3.8      14.2  157.23\n",
       "17  135  195 -19.2 -19.2   368.64   368.64   368.64   4.0      15.8  191.03\n",
       "18  144  201 -10.2 -13.2   104.04   174.24   134.64  -0.9       0.8  201.89\n",
       "19  188  255  33.8  40.8  1142.44  1664.64  1379.04   0.0       0.0  255.00"
      ]
     },
     "execution_count": 86,
     "metadata": {},
     "output_type": "execute_result"
    }
   ],
   "source": [
    "df"
   ]
  },
  {
   "cell_type": "code",
   "execution_count": 78,
   "metadata": {},
   "outputs": [
    {
     "data": {
      "text/plain": [
       "620.0999999999999"
      ]
     },
     "execution_count": 78,
     "metadata": {},
     "output_type": "execute_result"
    }
   ],
   "source": [
    "df['(Y-Y^)^2'].sum()"
   ]
  },
  {
   "cell_type": "code",
   "execution_count": 79,
   "metadata": {},
   "outputs": [
    {
     "data": {
      "text/plain": [
       "31.004999999999995"
      ]
     },
     "execution_count": 79,
     "metadata": {},
     "output_type": "execute_result"
    }
   ],
   "source": [
    "df['(Y-Y^)^2'].mean()"
   ]
  },
  {
   "cell_type": "code",
   "execution_count": 74,
   "metadata": {},
   "outputs": [
    {
     "data": {
      "text/plain": [
       "0.0"
      ]
     },
     "execution_count": 74,
     "metadata": {},
     "output_type": "execute_result"
    }
   ],
   "source": [
    "abs(round(df['Y-Y^'].mean(),1))"
   ]
  },
  {
   "cell_type": "code",
   "execution_count": 75,
   "metadata": {},
   "outputs": [
    {
     "data": {
      "text/plain": [
       "0.1"
      ]
     },
     "execution_count": 75,
     "metadata": {},
     "output_type": "execute_result"
    }
   ],
   "source": [
    "abs(round(df['Y-Y^'].sum(),1))"
   ]
  },
  {
   "cell_type": "code",
   "execution_count": 82,
   "metadata": {},
   "outputs": [],
   "source": [
    "SQT = df['y^2'].sum().round(2)"
   ]
  },
  {
   "cell_type": "code",
   "execution_count": 83,
   "metadata": {},
   "outputs": [
    {
     "data": {
      "text/plain": [
       "31513.2"
      ]
     },
     "execution_count": 83,
     "metadata": {},
     "output_type": "execute_result"
    }
   ],
   "source": [
    "SQT"
   ]
  },
  {
   "cell_type": "code",
   "execution_count": 88,
   "metadata": {},
   "outputs": [],
   "source": [
    "SQE = sum((df['Y^'] - df['Y^'].mean())**2)"
   ]
  },
  {
   "cell_type": "code",
   "execution_count": 89,
   "metadata": {},
   "outputs": [
    {
     "data": {
      "text/plain": [
       "30884.645694999996"
      ]
     },
     "execution_count": 89,
     "metadata": {},
     "output_type": "execute_result"
    }
   ],
   "source": [
    "SQE"
   ]
  },
  {
   "cell_type": "code",
   "execution_count": 94,
   "metadata": {},
   "outputs": [],
   "source": [
    "SQR = round(sum(df['(Y-Y^)^2']),2)"
   ]
  },
  {
   "cell_type": "code",
   "execution_count": 95,
   "metadata": {},
   "outputs": [
    {
     "data": {
      "text/plain": [
       "620.1"
      ]
     },
     "execution_count": 95,
     "metadata": {},
     "output_type": "execute_result"
    }
   ],
   "source": [
    "SQR"
   ]
  },
  {
   "cell_type": "code",
   "execution_count": 97,
   "metadata": {},
   "outputs": [],
   "source": [
    "R2 = SQE/SQT"
   ]
  },
  {
   "cell_type": "code",
   "execution_count": 99,
   "metadata": {},
   "outputs": [
    {
     "data": {
      "text/plain": [
       "98.01"
      ]
     },
     "execution_count": 99,
     "metadata": {},
     "output_type": "execute_result"
    }
   ],
   "source": [
    "round(R2*100,2)"
   ]
  },
  {
   "cell_type": "markdown",
   "metadata": {},
   "source": [
    "### OLS usando statsmodels"
   ]
  },
  {
   "cell_type": "code",
   "execution_count": 105,
   "metadata": {},
   "outputs": [],
   "source": [
    "import statsmodels.api as sm"
   ]
  },
  {
   "cell_type": "code",
   "execution_count": 114,
   "metadata": {},
   "outputs": [],
   "source": [
    "X = df['X']\n",
    "X = sm.add_constant(X)\n",
    "Y = df['Y']\n",
    "resultados = sm.OLS(Y,X).fit()"
   ]
  },
  {
   "cell_type": "code",
   "execution_count": 115,
   "metadata": {},
   "outputs": [
    {
     "data": {
      "text/html": [
       "<table class=\"simpletable\">\n",
       "<caption>OLS Regression Results</caption>\n",
       "<tr>\n",
       "  <th>Dep. Variable:</th>            <td>Y</td>        <th>  R-squared:         </th> <td>   0.980</td>\n",
       "</tr>\n",
       "<tr>\n",
       "  <th>Model:</th>                   <td>OLS</td>       <th>  Adj. R-squared:    </th> <td>   0.979</td>\n",
       "</tr>\n",
       "<tr>\n",
       "  <th>Method:</th>             <td>Least Squares</td>  <th>  F-statistic:       </th> <td>   896.8</td>\n",
       "</tr>\n",
       "<tr>\n",
       "  <th>Date:</th>             <td>Sat, 07 Nov 2020</td> <th>  Prob (F-statistic):</th> <td>8.27e-17</td>\n",
       "</tr>\n",
       "<tr>\n",
       "  <th>Time:</th>                 <td>12:47:57</td>     <th>  Log-Likelihood:    </th> <td> -62.720</td>\n",
       "</tr>\n",
       "<tr>\n",
       "  <th>No. Observations:</th>      <td>    20</td>      <th>  AIC:               </th> <td>   129.4</td>\n",
       "</tr>\n",
       "<tr>\n",
       "  <th>Df Residuals:</th>          <td>    18</td>      <th>  BIC:               </th> <td>   131.4</td>\n",
       "</tr>\n",
       "<tr>\n",
       "  <th>Df Model:</th>              <td>     1</td>      <th>                     </th>     <td> </td>   \n",
       "</tr>\n",
       "<tr>\n",
       "  <th>Covariance Type:</th>      <td>nonrobust</td>    <th>                     </th>     <td> </td>   \n",
       "</tr>\n",
       "</table>\n",
       "<table class=\"simpletable\">\n",
       "<tr>\n",
       "    <td></td>       <th>coef</th>     <th>std err</th>      <th>t</th>      <th>P>|t|</th>  <th>[0.025</th>    <th>0.975]</th>  \n",
       "</tr>\n",
       "<tr>\n",
       "  <th>const</th> <td>   28.0532</td> <td>    6.353</td> <td>    4.416</td> <td> 0.000</td> <td>   14.706</td> <td>   41.400</td>\n",
       "</tr>\n",
       "<tr>\n",
       "  <th>X</th>     <td>    1.2072</td> <td>    0.040</td> <td>   29.946</td> <td> 0.000</td> <td>    1.122</td> <td>    1.292</td>\n",
       "</tr>\n",
       "</table>\n",
       "<table class=\"simpletable\">\n",
       "<tr>\n",
       "  <th>Omnibus:</th>       <td> 2.621</td> <th>  Durbin-Watson:     </th> <td>   2.683</td>\n",
       "</tr>\n",
       "<tr>\n",
       "  <th>Prob(Omnibus):</th> <td> 0.270</td> <th>  Jarque-Bera (JB):  </th> <td>   1.430</td>\n",
       "</tr>\n",
       "<tr>\n",
       "  <th>Skew:</th>          <td>-0.345</td> <th>  Prob(JB):          </th> <td>   0.489</td>\n",
       "</tr>\n",
       "<tr>\n",
       "  <th>Kurtosis:</th>      <td> 1.887</td> <th>  Cond. No.          </th> <td>    763.</td>\n",
       "</tr>\n",
       "</table><br/><br/>Notes:<br/>[1] Standard Errors assume that the covariance matrix of the errors is correctly specified."
      ],
      "text/plain": [
       "<class 'statsmodels.iolib.summary.Summary'>\n",
       "\"\"\"\n",
       "                            OLS Regression Results                            \n",
       "==============================================================================\n",
       "Dep. Variable:                      Y   R-squared:                       0.980\n",
       "Model:                            OLS   Adj. R-squared:                  0.979\n",
       "Method:                 Least Squares   F-statistic:                     896.8\n",
       "Date:                Sat, 07 Nov 2020   Prob (F-statistic):           8.27e-17\n",
       "Time:                        12:47:57   Log-Likelihood:                -62.720\n",
       "No. Observations:                  20   AIC:                             129.4\n",
       "Df Residuals:                      18   BIC:                             131.4\n",
       "Df Model:                           1                                         \n",
       "Covariance Type:            nonrobust                                         \n",
       "==============================================================================\n",
       "                 coef    std err          t      P>|t|      [0.025      0.975]\n",
       "------------------------------------------------------------------------------\n",
       "const         28.0532      6.353      4.416      0.000      14.706      41.400\n",
       "X              1.2072      0.040     29.946      0.000       1.122       1.292\n",
       "==============================================================================\n",
       "Omnibus:                        2.621   Durbin-Watson:                   2.683\n",
       "Prob(Omnibus):                  0.270   Jarque-Bera (JB):                1.430\n",
       "Skew:                          -0.345   Prob(JB):                        0.489\n",
       "Kurtosis:                       1.887   Cond. No.                         763.\n",
       "==============================================================================\n",
       "\n",
       "Notes:\n",
       "[1] Standard Errors assume that the covariance matrix of the errors is correctly specified.\n",
       "\"\"\""
      ]
     },
     "execution_count": 115,
     "metadata": {},
     "output_type": "execute_result"
    }
   ],
   "source": [
    "resultados.summary()"
   ]
  },
  {
   "cell_type": "markdown",
   "metadata": {},
   "source": [
    "### Gerando dados para regressão usando sklearn"
   ]
  },
  {
   "cell_type": "code",
   "execution_count": 128,
   "metadata": {},
   "outputs": [],
   "source": [
    "from sklearn.datasets import make_regression"
   ]
  },
  {
   "cell_type": "code",
   "execution_count": 125,
   "metadata": {},
   "outputs": [
    {
     "data": {
      "image/png": "[encoded data removed]",
      "text/plain": [
       "<Figure size 432x288 with 1 Axes>"
      ]
     },
     "metadata": {
      "needs_background": "light"
     },
     "output_type": "display_data"
    }
   ],
   "source": [
    "x, y = make_regression(n_samples=200, n_features=1,noise=1)\n",
    "plt.scatter(x,y)\n",
    "plt.title('Relação entre as variáveis X e Y (samples=200,noise=1)')\n",
    "plt.xlabel('Variável Independente X')\n",
    "plt.ylabel('Variável Dependente Y')\n",
    "plt.grid(True)\n",
    "plt.show()"
   ]
  },
  {
   "cell_type": "code",
   "execution_count": 215,
   "metadata": {},
   "outputs": [
    {
     "data": {
      "image/png": "[encoded data removed]",
      "text/plain": [
       "<Figure size 432x288 with 1 Axes>"
      ]
     },
     "metadata": {
      "needs_background": "light"
     },
     "output_type": "display_data"
    }
   ],
   "source": [
    "x, y = make_regression(n_samples=500, n_features=1,noise=20)\n",
    "plt.scatter(x,y)\n",
    "plt.title('Relação entre as variáveis X e Y (samples=500, noise=20)')\n",
    "plt.xlabel('Variável Independente X')\n",
    "plt.ylabel('Variável Dependente Y')\n",
    "plt.grid(True)\n",
    "plt.show()"
   ]
  },
  {
   "cell_type": "code",
   "execution_count": 214,
   "metadata": {},
   "outputs": [
    {
     "data": {
      "image/png": "[encoded data removed]",
      "text/plain": [
       "<Figure size 432x288 with 1 Axes>"
      ]
     },
     "metadata": {
      "needs_background": "light"
     },
     "output_type": "display_data"
    }
   ],
   "source": [
    "x, y = make_regression(n_samples=500, n_features=1,noise=50)\n",
    "plt.scatter(x,y)\n",
    "plt.title('Relação entre as variáveis X e Y (samples=500,noise=50)')\n",
    "plt.xlabel('Variável Independente X')\n",
    "plt.ylabel('Variável Dependente Y')\n",
    "plt.grid(True)\n",
    "plt.show()"
   ]
  },
  {
   "cell_type": "markdown",
   "metadata": {},
   "source": [
    "# Regressão Linear Múltipla"
   ]
  },
  {
   "cell_type": "markdown",
   "metadata": {},
   "source": [
    "$ y_{i} =  \\beta_{0}+\\beta_{1}x_{i1} +\\beta_{2}x_{i2}+\\beta_{3}x_{i3}+\\ldots+\\beta_{p}x_{ip}+ \\epsilon_{i}$"
   ]
  },
  {
   "cell_type": "markdown",
   "metadata": {},
   "source": [
    "Generalizando,em notação matricial temos que:"
   ]
  },
  {
   "cell_type": "markdown",
   "metadata": {},
   "source": [
    "$$ \\mathbf {y} = \\mathbf {X}\\beta+\\mathbf \\epsilon $$"
   ]
  },
  {
   "cell_type": "markdown",
   "metadata": {},
   "source": [
    "Onde:"
   ]
  },
  {
   "cell_type": "markdown",
   "metadata": {},
   "source": [
    "$$\n",
    "\\mathbf {y} = \\left[\n",
    "\\begin{array}{c c c}\n",
    "y_{1} \\\\\n",
    "y_{2} \\\\\n",
    "\\vdots\\\\ \n",
    "y_{p}\\\\\n",
    "\\end{array}\\right]\n",
    "$$ "
   ]
  },
  {
   "cell_type": "markdown",
   "metadata": {},
   "source": [
    "$$\n",
    "\\mathbf {\\mathbf{\\beta}} = \\left[\n",
    "\\begin{array}{c c c}\n",
    "\\beta_{0} \\\\\n",
    "\\beta_{1} \\\\\n",
    "\\vdots\\\\ \n",
    "\\beta_{p}\\\\\n",
    "\\end{array}\\right]\n",
    "$$ "
   ]
  },
  {
   "cell_type": "markdown",
   "metadata": {},
   "source": [
    "$$\n",
    "\\mathbf {\\epsilon} = \\left[\n",
    "\\begin{array}{c c c}\n",
    "\\epsilon_{0} \\\\\n",
    "\\epsilon_{1} \\\\\n",
    "\\vdots\\\\ \n",
    "\\epsilon_{p}\\\\\n",
    "\\end{array}\\right]\n",
    "$$ "
   ]
  },
  {
   "cell_type": "markdown",
   "metadata": {},
   "source": [
    "$$\n",
    "\\mathbf {X} = \\left[\n",
    "\\begin{array}{c c c}\n",
    "1 & x_{11}& \\ldots& x_{1p}\\\\\n",
    "1 & x_{21}& \\ldots& x_{2n}\\\\\n",
    "\\vdots & \\vdots & \\ddots & \\vdots\\\\ \n",
    "1 & x_{n1} &\\ldots & x_{np}\n",
    "\\end{array}\\right]\n",
    "$$ "
   ]
  },
  {
   "cell_type": "markdown",
   "metadata": {},
   "source": [
    "Com um problema de otimização análogo ao anterior obtemos a partir de vetor de erros:"
   ]
  },
  {
   "cell_type": "markdown",
   "metadata": {},
   "source": [
    "$$\\mathbf{e'e} = (\\mathbf{Y} - \\mathbf{X\\beta})'(\\mathbf{Y} - \\mathbf{X\\beta}) $$\n",
    "$$\\mathbf{e'e} = \\mathbf{Y'Y}-\\mathbf{Y'X\\beta}-\\mathbf{\\beta'X'Y}+\\mathbf{\\beta'X'X\\beta} $$\n",
    "$$\\mathbf{e'e} = \\mathbf{Y'Y}-\\mathbf{2\\beta'X'Y}+\\mathbf{\\beta'X'X\\beta} $$\n",
    "Derivando em relação a $\\beta$ e igualando a zero:\n",
    "$$-2\\mathbf{X'Y}+2\\mathbf{X'X\\hat{\\beta}} = 0 $$\n",
    "$$ 2\\mathbf{X'X\\hat{\\beta}} = 2\\mathbf{X'Y} $$"
   ]
  },
  {
   "cell_type": "markdown",
   "metadata": {},
   "source": [
    "Pré-multiplicando ambos os lados da equação por $(\\mathbf{X'X})^{-1} $ :"
   ]
  },
  {
   "cell_type": "markdown",
   "metadata": {},
   "source": [
    "$$ (\\mathbf{X'X})^{-1}\\mathbf{X'X\\hat{\\beta}} = (\\mathbf{X'X})^{-1}\\mathbf{X'Y} $$"
   ]
  },
  {
   "cell_type": "markdown",
   "metadata": {},
   "source": [
    "$$\\therefore \\mathbf {\\hat\\beta} = (\\mathbf {X^{'}}\\mathbf {X})^{-1} \\mathbf {X^{'}}y $$"
   ]
  },
  {
   "cell_type": "markdown",
   "metadata": {},
   "source": [
    "Exemplo:"
   ]
  },
  {
   "cell_type": "markdown",
   "metadata": {},
   "source": [
    "$$\\ln (G/pop) = \\beta_{1}+\\beta_{2}\\ln(income/pop)+\\beta_{3}\\ln (price_{G})+\\beta_{4}\\ln(P_{newcars})+\\beta_{5}\\ln(P_{usedcars})+\\epsilon$$"
   ]
  },
  {
   "cell_type": "markdown",
   "metadata": {},
   "source": [
    "### Estimando uma regressão múltipla"
   ]
  },
  {
   "cell_type": "markdown",
   "metadata": {},
   "source": [
    "Modelo a ser estimado:\n",
    "$$ Y = \\beta_{1}+\\beta_{2}X_{2}+\\beta_{3}X_{3}+\\epsilon_{i} $$"
   ]
  },
  {
   "cell_type": "code",
   "execution_count": 198,
   "metadata": {},
   "outputs": [],
   "source": [
    "Y = {'Y':[800, 1160, 1580, 2010, 1890, 2600, 2070,1890,1830,1740,1380,1060]}\n",
    "X = {1:np.ones(12),\n",
    "     'X2':[2, 4, 6, 8,7,12,11,10,9,8,6,4],\n",
    "    'X3':[0.8,0.7,0.5,0.4,0.2,0.2,0.8,0.7,0.6,0.1,0.5,0.4]}"
   ]
  },
  {
   "cell_type": "code",
   "execution_count": 199,
   "metadata": {},
   "outputs": [],
   "source": [
    "Y = pd.DataFrame(Y)\n",
    "X = pd.DataFrame(X).values"
   ]
  },
  {
   "cell_type": "code",
   "execution_count": 160,
   "metadata": {},
   "outputs": [
    {
     "data": {
      "text/plain": [
       "array([[ 1. ,  2. ,  0.8],\n",
       "       [ 1. ,  4. ,  0.7],\n",
       "       [ 1. ,  6. ,  0.5],\n",
       "       [ 1. ,  8. ,  0.4],\n",
       "       [ 1. ,  7. ,  0.2],\n",
       "       [ 1. , 12. ,  0.2],\n",
       "       [ 1. , 11. ,  0.8],\n",
       "       [ 1. , 10. ,  0.7],\n",
       "       [ 1. ,  9. ,  0.6],\n",
       "       [ 1. ,  8. ,  0.1],\n",
       "       [ 1. ,  6. ,  0.5],\n",
       "       [ 1. ,  4. ,  0.4]])"
      ]
     },
     "execution_count": 160,
     "metadata": {},
     "output_type": "execute_result"
    }
   ],
   "source": [
    "X"
   ]
  },
  {
   "cell_type": "code",
   "execution_count": 165,
   "metadata": {},
   "outputs": [],
   "source": [
    "beta = np.linalg.inv(X.T.dot(X)).dot(X.T.dot(Y))"
   ]
  },
  {
   "cell_type": "code",
   "execution_count": 168,
   "metadata": {},
   "outputs": [
    {
     "data": {
      "text/plain": [
       "array([[ 789.33],\n",
       "       [ 149.56],\n",
       "       [-419.26]])"
      ]
     },
     "execution_count": 168,
     "metadata": {},
     "output_type": "execute_result"
    }
   ],
   "source": [
    "beta.round(2)"
   ]
  },
  {
   "cell_type": "markdown",
   "metadata": {},
   "source": [
    "Valor dos parâmetros:\n",
    "$$\\hat{\\beta_{1}} = 789,33$$\n",
    "$$\\hat{\\beta_{2}} = 149,56$$\n",
    "$$\\hat{\\beta_{3}} = -419.26$$"
   ]
  },
  {
   "cell_type": "markdown",
   "metadata": {},
   "source": [
    "Modelo estimado:"
   ]
  },
  {
   "cell_type": "markdown",
   "metadata": {},
   "source": [
    "$$ \\hat{Y} = 789,33+149,56X_{2}−419,26X_{3}$$"
   ]
  },
  {
   "cell_type": "markdown",
   "metadata": {},
   "source": [
    "### OLS usando statsmodels"
   ]
  },
  {
   "cell_type": "code",
   "execution_count": 200,
   "metadata": {},
   "outputs": [],
   "source": [
    "X = sm.add_constant(X)\n",
    "resultados = sm.OLS(Y,X).fit()"
   ]
  },
  {
   "cell_type": "code",
   "execution_count": 206,
   "metadata": {},
   "outputs": [
    {
     "data": {
      "text/html": [
       "<table class=\"simpletable\">\n",
       "<caption>OLS Regression Results</caption>\n",
       "<tr>\n",
       "  <th>Dep. Variable:</th>            <td>Y</td>        <th>  R-squared:         </th> <td>   0.937</td>\n",
       "</tr>\n",
       "<tr>\n",
       "  <th>Model:</th>                   <td>OLS</td>       <th>  Adj. R-squared:    </th> <td>   0.923</td>\n",
       "</tr>\n",
       "<tr>\n",
       "  <th>Method:</th>             <td>Least Squares</td>  <th>  F-statistic:       </th> <td>   66.82</td>\n",
       "</tr>\n",
       "<tr>\n",
       "  <th>Date:</th>             <td>Sat, 07 Nov 2020</td> <th>  Prob (F-statistic):</th> <td>3.98e-06</td>\n",
       "</tr>\n",
       "<tr>\n",
       "  <th>Time:</th>                 <td>20:54:47</td>     <th>  Log-Likelihood:    </th> <td> -74.499</td>\n",
       "</tr>\n",
       "<tr>\n",
       "  <th>No. Observations:</th>      <td>    12</td>      <th>  AIC:               </th> <td>   155.0</td>\n",
       "</tr>\n",
       "<tr>\n",
       "  <th>Df Residuals:</th>          <td>     9</td>      <th>  BIC:               </th> <td>   156.5</td>\n",
       "</tr>\n",
       "<tr>\n",
       "  <th>Df Model:</th>              <td>     2</td>      <th>                     </th>     <td> </td>   \n",
       "</tr>\n",
       "<tr>\n",
       "  <th>Covariance Type:</th>      <td>nonrobust</td>    <th>                     </th>     <td> </td>   \n",
       "</tr>\n",
       "</table>\n",
       "<table class=\"simpletable\">\n",
       "<tr>\n",
       "    <td></td>       <th>coef</th>     <th>std err</th>      <th>t</th>      <th>P>|t|</th>  <th>[0.025</th>    <th>0.975]</th>  \n",
       "</tr>\n",
       "<tr>\n",
       "  <th>const</th> <td>  789.3296</td> <td>  155.258</td> <td>    5.084</td> <td> 0.001</td> <td>  438.112</td> <td> 1140.547</td>\n",
       "</tr>\n",
       "<tr>\n",
       "  <th>x1</th>    <td>  149.5593</td> <td>   14.225</td> <td>   10.514</td> <td> 0.000</td> <td>  117.381</td> <td>  181.738</td>\n",
       "</tr>\n",
       "<tr>\n",
       "  <th>x2</th>    <td> -419.2566</td> <td>  179.557</td> <td>   -2.335</td> <td> 0.044</td> <td> -825.443</td> <td>  -13.070</td>\n",
       "</tr>\n",
       "</table>\n",
       "<table class=\"simpletable\">\n",
       "<tr>\n",
       "  <th>Omnibus:</th>       <td> 1.230</td> <th>  Durbin-Watson:     </th> <td>   0.438</td>\n",
       "</tr>\n",
       "<tr>\n",
       "  <th>Prob(Omnibus):</th> <td> 0.541</td> <th>  Jarque-Bera (JB):  </th> <td>   0.739</td>\n",
       "</tr>\n",
       "<tr>\n",
       "  <th>Skew:</th>          <td>-0.122</td> <th>  Prob(JB):          </th> <td>   0.691</td>\n",
       "</tr>\n",
       "<tr>\n",
       "  <th>Kurtosis:</th>      <td> 1.809</td> <th>  Cond. No.          </th> <td>    43.3</td>\n",
       "</tr>\n",
       "</table><br/><br/>Notes:<br/>[1] Standard Errors assume that the covariance matrix of the errors is correctly specified."
      ],
      "text/plain": [
       "<class 'statsmodels.iolib.summary.Summary'>\n",
       "\"\"\"\n",
       "                            OLS Regression Results                            \n",
       "==============================================================================\n",
       "Dep. Variable:                      Y   R-squared:                       0.937\n",
       "Model:                            OLS   Adj. R-squared:                  0.923\n",
       "Method:                 Least Squares   F-statistic:                     66.82\n",
       "Date:                Sat, 07 Nov 2020   Prob (F-statistic):           3.98e-06\n",
       "Time:                        20:54:47   Log-Likelihood:                -74.499\n",
       "No. Observations:                  12   AIC:                             155.0\n",
       "Df Residuals:                       9   BIC:                             156.5\n",
       "Df Model:                           2                                         \n",
       "Covariance Type:            nonrobust                                         \n",
       "==============================================================================\n",
       "                 coef    std err          t      P>|t|      [0.025      0.975]\n",
       "------------------------------------------------------------------------------\n",
       "const        789.3296    155.258      5.084      0.001     438.112    1140.547\n",
       "x1           149.5593     14.225     10.514      0.000     117.381     181.738\n",
       "x2          -419.2566    179.557     -2.335      0.044    -825.443     -13.070\n",
       "==============================================================================\n",
       "Omnibus:                        1.230   Durbin-Watson:                   0.438\n",
       "Prob(Omnibus):                  0.541   Jarque-Bera (JB):                0.739\n",
       "Skew:                          -0.122   Prob(JB):                        0.691\n",
       "Kurtosis:                       1.809   Cond. No.                         43.3\n",
       "==============================================================================\n",
       "\n",
       "Notes:\n",
       "[1] Standard Errors assume that the covariance matrix of the errors is correctly specified.\n",
       "\"\"\""
      ]
     },
     "execution_count": 206,
     "metadata": {},
     "output_type": "execute_result"
    }
   ],
   "source": [
    "resultados.summary()"
   ]
  }
 ],
 "metadata": {
  "kernelspec": {
   "display_name": "Python 3",
   "language": "python",
   "name": "python3"
  },
  "language_info": {
   "codemirror_mode": {
    "name": "ipython",
    "version": 3
   },
   "file_extension": ".py",
   "mimetype": "text/x-python",
   "name": "python",
   "nbconvert_exporter": "python",
   "pygments_lexer": "ipython3",
   "version": "3.8.5"
  }
 },
 "nbformat": 4,
 "nbformat_minor": 4
}
